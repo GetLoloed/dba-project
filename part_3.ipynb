{
 "cells": [
  {
   "cell_type": "code",
   "execution_count": 2,
   "id": "initial_id",
   "metadata": {
    "collapsed": true,
    "ExecuteTime": {
     "end_time": "2023-11-16T17:25:34.289815300Z",
     "start_time": "2023-11-16T17:25:34.216060900Z"
    }
   },
   "outputs": [],
   "source": [
    "import os\n",
    "import psycopg2\n",
    "from dotenv import load_dotenv\n",
    "\n",
    "# Charger les variables d'environnement\n",
    "load_dotenv(\".env\")\n",
    "\n",
    "# Obtenir les informations d'identification de la base de données depuis le fichier .env\n",
    "USER_PSQL = os.environ.get(\"POSTGRESQL_LOCAL_USER\")\n",
    "PASSWORD_PSQL = os.environ.get(\"POSTGRESQL_LOCAL_PASSWORD\")\n",
    "\n",
    "\n",
    "def open_connection():\n",
    "    try:\n",
    "        conn = psycopg2.connect(\n",
    "            user=USER_PSQL,\n",
    "            password=PASSWORD_PSQL,\n",
    "            host=\"localhost\",\n",
    "            port=\"5432\",\n",
    "            dbname=\"app_auth\"\n",
    "        )\n",
    "        return conn\n",
    "    except Exception as e:\n",
    "        print(f\"Erreur de connexion à la base de données: {e}\")\n",
    "        return None\n",
    "\n",
    "\n",
    "def close_connection(conn):\n",
    "    if conn is not None:\n",
    "        conn.close()"
   ]
  },
  {
   "cell_type": "markdown",
   "source": [
    "## Question 1: Création de la Table `user_for_comparison`\n",
    "\n",
    "Nous allons créer une table `user_for_comparison` qui a la même structure que la table `user`. Cette table sera utilisée pour comparer les performances des requêtes avant et après l'ajout d'un index."
   ],
   "metadata": {
    "collapsed": false
   },
   "id": "ddda48aa730c97d6"
  },
  {
   "cell_type": "code",
   "execution_count": null,
   "outputs": [],
   "source": [
    "conn = open_connection()\n",
    "cursor = conn.cursor()\n",
    "\n",
    "create_table_script = \"\"\"\n",
    "CREATE TABLE IF NOT EXISTS user_for_comparison (\n",
    "    user_id SERIAL PRIMARY KEY,\n",
    "    firstname VARCHAR(255),\n",
    "    lastname VARCHAR(255),\n",
    "    email VARCHAR(255) UNIQUE,\n",
    "    username VARCHAR(255) UNIQUE,\n",
    "    password VARCHAR(255),\n",
    "    created_at TIMESTAMP WITHOUT TIME ZONE\n",
    ");\n",
    "\"\"\"\n",
    "cursor.execute(create_table_script)\n",
    "conn.commit()\n",
    "\n",
    "close_connection(conn)"
   ],
   "metadata": {
    "collapsed": false,
    "is_executing": true
   },
   "id": "b7573a569fc14bc5"
  },
  {
   "cell_type": "markdown",
   "source": [
    "### Insertion des Données\n",
    "\n",
    "Nous allons maintenant insérer 100 000 lignes de données générées de manière crédible dans la table `user_for_comparison`."
   ],
   "metadata": {
    "collapsed": false
   },
   "id": "55cc95d2930e25fc"
  },
  {
   "cell_type": "code",
   "execution_count": null,
   "outputs": [],
   "source": [
    "from faker import Faker\n",
    "import random\n",
    "\n",
    "faker = Faker()\n",
    "conn = open_connection()\n",
    "cursor = conn.cursor()\n",
    "\n",
    "for _ in range(100):\n",
    "    for _ in range(1000):\n",
    "        try:\n",
    "            cursor.execute(\n",
    "                \"INSERT INTO user_for_comparison (firstname, lastname, email, username, password, created_at) VALUES (%s, %s, %s, %s, %s, %s)\",\n",
    "                (\n",
    "                    faker.first_name(),\n",
    "                    faker.last_name(),\n",
    "                    faker.email(),\n",
    "                    faker.user_name() + str(random.randint(1, 1000000)),\n",
    "                    faker.password(),\n",
    "                    faker.date_between(start_date=\"-2y\", end_date=\"today\")\n",
    "                )\n",
    "            )\n",
    "        except psycopg2.errors.UniqueViolation:\n",
    "            conn.rollback()\n",
    "        else:\n",
    "            conn.commit()\n",
    "\n",
    "close_connection(conn)"
   ],
   "metadata": {
    "collapsed": false,
    "is_executing": true,
    "ExecuteTime": {
     "start_time": "2023-11-16T17:25:48.494901200Z"
    }
   },
   "id": "573deabe4b9423ac"
  },
  {
   "cell_type": "markdown",
   "source": [
    "### Question 2: Mesure du Temps d'Exécution des Requêtes\n",
    "\n",
    "Nous allons mesurer le temps d'exécution des requêtes `SELECT` avec un filtre `WHERE` sur différents `username` dans la table `user_for_comparison`."
   ],
   "metadata": {
    "collapsed": false
   },
   "id": "42efa6a9eb5bad4f"
  },
  {
   "cell_type": "code",
   "execution_count": 4,
   "outputs": [
    {
     "name": "stdout",
     "output_type": "stream",
     "text": [
      "Temps d'exécution pour example_username1: 0.0 secondes\n",
      "Temps d'exécution pour example_username2: 0.0 secondes\n",
      "Temps d'exécution pour example_username3: 0.0 secondes\n"
     ]
    }
   ],
   "source": [
    "import time\n",
    "\n",
    "conn = open_connection()\n",
    "cursor = conn.cursor()\n",
    "\n",
    "usernames_to_test = [\"example_username1\", \"example_username2\", \"example_username3\"]\n",
    "\n",
    "for username in usernames_to_test:\n",
    "    start_time = time.time()\n",
    "    cursor.execute(\"SELECT * FROM user_for_comparison WHERE username = %s\", (username,))\n",
    "    cursor.fetchall()\n",
    "    end_time = time.time()\n",
    "\n",
    "    print(f\"Temps d'exécution pour {username}: {end_time - start_time} secondes\")\n",
    "\n",
    "close_connection(conn)"
   ],
   "metadata": {
    "collapsed": false,
    "ExecuteTime": {
     "end_time": "2023-11-16T17:25:44.762591200Z",
     "start_time": "2023-11-16T17:25:44.682516400Z"
    }
   },
   "id": "af8f8ec93ced5306"
  },
  {
   "cell_type": "markdown",
   "source": [
    "### Question 3: Création d'un Index sur la Colonne `username`\n",
    "\n",
    "Nous allons créer un index sur la colonne `username` de la table `user_for_comparison` et répéter les mesures de temps d'exécution des requêtes pour comparer les performances."
   ],
   "metadata": {
    "collapsed": false
   },
   "id": "1fb9a8c990888c09"
  },
  {
   "cell_type": "code",
   "execution_count": 3,
   "outputs": [
    {
     "ename": "DuplicateTable",
     "evalue": "ERREUR:  la relation « idx_username » existe déjà\n",
     "output_type": "error",
     "traceback": [
      "\u001B[1;31m---------------------------------------------------------------------------\u001B[0m",
      "\u001B[1;31mDuplicateTable\u001B[0m                            Traceback (most recent call last)",
      "Cell \u001B[1;32mIn[3], line 5\u001B[0m\n\u001B[0;32m      2\u001B[0m cursor \u001B[38;5;241m=\u001B[39m conn\u001B[38;5;241m.\u001B[39mcursor()\n\u001B[0;32m      4\u001B[0m create_index_script \u001B[38;5;241m=\u001B[39m \u001B[38;5;124m\"\u001B[39m\u001B[38;5;124mCREATE INDEX idx_username ON user_for_comparison (username);\u001B[39m\u001B[38;5;124m\"\u001B[39m\n\u001B[1;32m----> 5\u001B[0m \u001B[43mcursor\u001B[49m\u001B[38;5;241;43m.\u001B[39;49m\u001B[43mexecute\u001B[49m\u001B[43m(\u001B[49m\u001B[43mcreate_index_script\u001B[49m\u001B[43m)\u001B[49m\n\u001B[0;32m      6\u001B[0m conn\u001B[38;5;241m.\u001B[39mcommit()\n\u001B[0;32m      8\u001B[0m \u001B[38;5;28;01mfor\u001B[39;00m username \u001B[38;5;129;01min\u001B[39;00m usernames_to_test:\n",
      "\u001B[1;31mDuplicateTable\u001B[0m: ERREUR:  la relation « idx_username » existe déjà\n"
     ]
    }
   ],
   "source": [
    "conn = open_connection()\n",
    "cursor = conn.cursor()\n",
    "\n",
    "create_index_script = \"CREATE INDEX idx_username ON user_for_comparison (username);\"\n",
    "cursor.execute(create_index_script)\n",
    "conn.commit()\n",
    "\n",
    "for username in usernames_to_test:\n",
    "    start_time = time.time()\n",
    "    cursor.execute(\"SELECT * FROM user_for_comparison WHERE username = %s\", (username,))\n",
    "    cursor.fetchall()\n",
    "    end_time = time.time()\n",
    "\n",
    "    print(f\"Temps d'exécution après indexation pour {username}: {end_time - start_time} secondes\")\n",
    "\n",
    "close_connection(conn)"
   ],
   "metadata": {
    "collapsed": false,
    "ExecuteTime": {
     "end_time": "2023-11-16T17:25:39.047391400Z",
     "start_time": "2023-11-16T17:25:38.931672600Z"
    }
   },
   "id": "2c63e85addfcc23a"
  }
 ],
 "metadata": {
  "kernelspec": {
   "display_name": "Python 3",
   "language": "python",
   "name": "python3"
  },
  "language_info": {
   "codemirror_mode": {
    "name": "ipython",
    "version": 2
   },
   "file_extension": ".py",
   "mimetype": "text/x-python",
   "name": "python",
   "nbconvert_exporter": "python",
   "pygments_lexer": "ipython2",
   "version": "2.7.6"
  }
 },
 "nbformat": 4,
 "nbformat_minor": 5
}
