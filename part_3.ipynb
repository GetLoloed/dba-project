{
 "cells": [
  {
   "cell_type": "code",
   "execution_count": 1,
   "id": "initial_id",
   "metadata": {
    "collapsed": true,
    "ExecuteTime": {
     "end_time": "2023-11-16T15:21:38.137814900Z",
     "start_time": "2023-11-16T15:21:38.083154600Z"
    }
   },
   "outputs": [
    {
     "name": "stdout",
     "output_type": "stream",
     "text": [
      "Connexion à la base de données établie avec succès.\n"
     ]
    }
   ],
   "source": [
    "import os\n",
    "from dotenv import load_dotenv\n",
    "import psycopg2\n",
    "\n",
    "# Charger les variables d'environnement\n",
    "load_dotenv(\".env\")\n",
    "\n",
    "# Obtenir les informations d'identification de la base de données depuis le fichier .env\n",
    "USER_PSQL = os.environ.get(\"POSTGRESQL_LOCAL_USER\")\n",
    "PASSWORD_PSQL = os.environ.get(\"POSTGRESQL_LOCAL_PASSWORD\")\n",
    "\n",
    "try:\n",
    "    conn = psycopg2.connect(\n",
    "        user=USER_PSQL,\n",
    "        password=PASSWORD_PSQL,\n",
    "        host=\"localhost\",\n",
    "        port=\"5432\",\n",
    "        dbname=\"app_auth\"\n",
    "    )\n",
    "    print(\"Connexion à la base de données établie avec succès.\")\n",
    "except Exception as e:\n",
    "    print(f\"Erreur de connexion à la base de données: {e}\")\n"
   ]
  },
  {
   "cell_type": "markdown",
   "source": [
    "## Question 1: Création de la Table `user_for_comparison`\n",
    "\n",
    "Nous allons créer une table `user_for_comparison` qui a la même structure que la table `user`. Cette table sera utilisée pour comparer les performances des requêtes avant et après l'ajout d'un index."
   ],
   "metadata": {
    "collapsed": false
   },
   "id": "ddda48aa730c97d6"
  },
  {
   "cell_type": "code",
   "execution_count": 4,
   "outputs": [],
   "source": [
    "create_table_script = \"\"\"\n",
    "CREATE TABLE IF NOT EXISTS user_for_comparison (\n",
    "    user_id SERIAL PRIMARY KEY,\n",
    "    firstname VARCHAR(255),\n",
    "    lastname VARCHAR(255),\n",
    "    email VARCHAR(255) UNIQUE,\n",
    "    username VARCHAR(255) UNIQUE,\n",
    "    password VARCHAR(255),\n",
    "    created_at TIMESTAMP WITHOUT TIME ZONE\n",
    ");\n",
    "\"\"\"\n",
    "cursor = conn.cursor()\n",
    "cursor.execute(create_table_script)\n",
    "conn.commit()"
   ],
   "metadata": {
    "collapsed": false,
    "ExecuteTime": {
     "end_time": "2023-11-16T15:11:39.413653800Z",
     "start_time": "2023-11-16T15:11:39.407842900Z"
    }
   },
   "id": "b7573a569fc14bc5"
  },
  {
   "cell_type": "markdown",
   "source": [
    "### Insertion des Données\n",
    "\n",
    "Nous allons maintenant insérer 100 000 lignes de données générées de manière crédible dans la table `user_for_comparison`."
   ],
   "metadata": {
    "collapsed": false
   },
   "id": "55cc95d2930e25fc"
  },
  {
   "cell_type": "code",
   "execution_count": 4,
   "outputs": [],
   "source": [
    "from faker.generator import random\n",
    "from faker import Faker\n",
    "import psycopg2\n",
    "\n",
    "faker = Faker()\n",
    "cursor = conn.cursor()\n",
    "\n",
    "for _ in range(100):  # 100 lots de 1000 utilisateurs\n",
    "    for _ in range(1000):\n",
    "        try:\n",
    "            cursor.execute(\n",
    "                \"INSERT INTO user_for_comparison (firstname, lastname, email, username, password, created_at) VALUES (%s, %s, %s, %s, %s, %s)\",\n",
    "                (\n",
    "                    faker.first_name(),\n",
    "                    faker.last_name(),\n",
    "                    faker.email(),\n",
    "                    faker.user_name() + str(random.randint(1, 1000000)),  # Ajouter un nombre aléatoire pour l'unicité\n",
    "                    faker.password(),\n",
    "                    faker.date_between(start_date=\"-2y\", end_date=\"today\")\n",
    "                )\n",
    "            )\n",
    "        except psycopg2.errors.UniqueViolation:\n",
    "            conn.rollback()  # Annule l'insertion en cas de doublon\n",
    "        else:\n",
    "            conn.commit()  # Valide l'insertion si aucune erreur\n",
    "\n"
   ],
   "metadata": {
    "collapsed": false,
    "ExecuteTime": {
     "end_time": "2023-11-16T15:15:06.095685Z",
     "start_time": "2023-11-16T15:14:05.273266800Z"
    }
   },
   "id": "573deabe4b9423ac"
  },
  {
   "cell_type": "markdown",
   "source": [
    "### Question 2: Mesure du Temps d'Exécution des Requêtes\n",
    "\n",
    "Nous allons mesurer le temps d'exécution des requêtes `SELECT` avec un filtre `WHERE` sur différents `username` dans la table `user_for_comparison`."
   ],
   "metadata": {
    "collapsed": false
   },
   "id": "42efa6a9eb5bad4f"
  },
  {
   "cell_type": "code",
   "execution_count": 3,
   "outputs": [
    {
     "name": "stdout",
     "output_type": "stream",
     "text": [
      "Temps d'exécution pour example_username1: 0.003629922866821289 secondes\n",
      "Temps d'exécution pour example_username2: 0.0 secondes\n",
      "Temps d'exécution pour example_username3: 0.0 secondes\n"
     ]
    }
   ],
   "source": [
    "import time\n",
    "\n",
    "usernames_to_test = [\"example_username1\", \"example_username2\", \"example_username3\"]\n",
    "cursor = conn.cursor()\n",
    "for username in usernames_to_test:\n",
    "    start_time = time.time()\n",
    "    cursor.execute(\"SELECT * FROM user_for_comparison WHERE username = %s\", (username,))\n",
    "    cursor.fetchall()\n",
    "    end_time = time.time()\n",
    "\n",
    "    print(f\"Temps d'exécution pour {username}: {end_time - start_time} secondes\")"
   ],
   "metadata": {
    "collapsed": false,
    "ExecuteTime": {
     "end_time": "2023-11-16T15:22:25.414018400Z",
     "start_time": "2023-11-16T15:22:25.405592400Z"
    }
   },
   "id": "af8f8ec93ced5306"
  },
  {
   "cell_type": "markdown",
   "source": [
    "### Question 3: Création d'un Index sur la Colonne `username`\n",
    "\n",
    "Nous allons créer un index sur la colonne `username` de la table `user_for_comparison` et répéter les mesures de temps d'exécution des requêtes pour comparer les performances."
   ],
   "metadata": {
    "collapsed": false
   },
   "id": "1fb9a8c990888c09"
  },
  {
   "cell_type": "code",
   "execution_count": 4,
   "outputs": [
    {
     "name": "stdout",
     "output_type": "stream",
     "text": [
      "Temps d'exécution après indexation pour example_username1: 0.0010018348693847656 secondes\n",
      "Temps d'exécution après indexation pour example_username2: 0.0009996891021728516 secondes\n",
      "Temps d'exécution après indexation pour example_username3: 0.0 secondes\n"
     ]
    }
   ],
   "source": [
    "# Création de l'index\n",
    "create_index_script = \"CREATE INDEX idx_username ON user_for_comparison (username);\"\n",
    "cursor.execute(create_index_script)\n",
    "conn.commit()\n",
    "\n",
    "# Mesurer à nouveau le temps d'exécution pour les mêmes usernames\n",
    "for username in usernames_to_test:\n",
    "    start_time = time.time()\n",
    "    cursor.execute(\"SELECT * FROM user_for_comparison WHERE username = %s\", (username,))\n",
    "    cursor.fetchall()\n",
    "    end_time = time.time()\n",
    "\n",
    "    print(f\"Temps d'exécution après indexation pour {username}: {end_time - start_time} secondes\")\n"
   ],
   "metadata": {
    "collapsed": false,
    "ExecuteTime": {
     "end_time": "2023-11-16T15:22:35.062175300Z",
     "start_time": "2023-11-16T15:22:34.771615500Z"
    }
   },
   "id": "2c63e85addfcc23a"
  }
 ],
 "metadata": {
  "kernelspec": {
   "display_name": "Python 3",
   "language": "python",
   "name": "python3"
  },
  "language_info": {
   "codemirror_mode": {
    "name": "ipython",
    "version": 2
   },
   "file_extension": ".py",
   "mimetype": "text/x-python",
   "name": "python",
   "nbconvert_exporter": "python",
   "pygments_lexer": "ipython2",
   "version": "2.7.6"
  }
 },
 "nbformat": 4,
 "nbformat_minor": 5
}
