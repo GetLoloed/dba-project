{
 "cells": [
  {
   "cell_type": "code",
   "execution_count": 2,
   "id": "initial_id",
   "metadata": {
    "collapsed": true,
    "ExecuteTime": {
     "end_time": "2023-11-16T17:46:53.820677900Z",
     "start_time": "2023-11-16T17:46:53.775985700Z"
    }
   },
   "outputs": [],
   "source": [
    "import os\n",
    "import psycopg2\n",
    "from dotenv import load_dotenv\n",
    "\n",
    "# Charger les variables d'environnement\n",
    "load_dotenv(\".env\")\n",
    "\n",
    "# Obtenir les informations d'identification de la base de données depuis le fichier .env\n",
    "USER_PSQL = os.environ.get(\"POSTGRESQL_LOCAL_USER\")\n",
    "PASSWORD_PSQL = os.environ.get(\"POSTGRESQL_LOCAL_PASSWORD\")\n",
    "\n",
    "\n",
    "def open_connection():\n",
    "    try:\n",
    "        conn = psycopg2.connect(\n",
    "            user=USER_PSQL,\n",
    "            password=PASSWORD_PSQL,\n",
    "            host=\"localhost\",\n",
    "            port=\"5432\",\n",
    "            dbname=\"app_auth\"\n",
    "        )\n",
    "        return conn\n",
    "    except Exception as e:\n",
    "        print(f\"Erreur de connexion à la base de données: {e}\")\n",
    "        return None\n",
    "\n",
    "\n",
    "def close_connection(conn):\n",
    "    if conn is not None:\n",
    "        conn.close()\n"
   ]
  },
  {
   "cell_type": "markdown",
   "source": [
    "## Question 1: Création de la Table `session_count` et du Trigger `trigger_update_session_count`\n",
    "\n",
    "Nous allons créer une table `session_count` et un trigger `trigger_update_session_count`. Ce trigger mettra à jour le compteur de sessions (`session_count_value`) pour chaque utilisateur après chaque insertion ou suppression dans la table `session_table`."
   ],
   "metadata": {
    "collapsed": false
   },
   "id": "246a08ce427dba8a"
  },
  {
   "cell_type": "code",
   "execution_count": 5,
   "outputs": [],
   "source": [
    "conn = open_connection()\n",
    "cursor = conn.cursor()\n",
    "\n",
    "create_table_script = \"\"\"\n",
    "CREATE TABLE IF NOT EXISTS username_history_from_app (\n",
    "    history_id SERIAL PRIMARY KEY,\n",
    "    user_id INT REFERENCES user_table (user_id),\n",
    "    username_new VARCHAR(255)\n",
    ");\n",
    "\"\"\"\n",
    "cursor.execute(create_table_script)\n",
    "conn.commit()\n",
    "\n",
    "close_connection(conn)"
   ],
   "metadata": {
    "collapsed": false,
    "ExecuteTime": {
     "end_time": "2023-11-16T17:47:29.366472500Z",
     "start_time": "2023-11-16T17:47:29.297889300Z"
    }
   },
   "id": "798a03d3a9e3688e"
  },
  {
   "cell_type": "markdown",
   "source": [
    "## Comparaison des Temps d'Exécution pour la Mise à Jour de Username\n",
    "\n",
    "Nous comparerons les temps d'exécution nécessaires pour modifier le `username` en utilisant un trigger et en enregistrant directement l'historique via le code Python."
   ],
   "metadata": {
    "collapsed": false
   },
   "id": "9d63f41ccc052d11"
  },
  {
   "cell_type": "code",
   "execution_count": 7,
   "outputs": [
    {
     "name": "stdout",
     "output_type": "stream",
     "text": [
      "Nombre d'éditions: 100\n",
      "Temps avec trigger: 0.07471728324890137 secondes\n",
      "Temps sans trigger: 0.10446810722351074 secondes\n",
      "Nombre d'éditions: 1000\n",
      "Temps avec trigger: 0.6452832221984863 secondes\n",
      "Temps sans trigger: 0.8157823085784912 secondes\n",
      "Nombre d'éditions: 10000\n",
      "Temps avec trigger: 5.323859930038452 secondes\n",
      "Temps sans trigger: 7.273778915405273 secondes\n"
     ]
    }
   ],
   "source": [
    "import time\n",
    "\n",
    "# Supposons que nous utilisons un user_id existant pour le test\n",
    "user_id = 1  \n",
    "\n",
    "def update_username_and_measure_time(conn, user_id, new_username, table_name):\n",
    "    start_time = time.time()\n",
    "    cursor = conn.cursor()\n",
    "    update_query = f\"UPDATE user_table SET username = %s WHERE user_id = %s\"\n",
    "    cursor.execute(update_query, (new_username, user_id))\n",
    "    if table_name == \"username_history_from_app\":\n",
    "        insert_query = f\"INSERT INTO {table_name} (user_id, username_new) VALUES (%s, %s)\"\n",
    "        cursor.execute(insert_query, (user_id, new_username))\n",
    "    conn.commit()\n",
    "    end_time = time.time()\n",
    "    return end_time - start_time\n",
    "\n",
    "# Test pour 100, 1000, 10000 éditions\n",
    "for num_edits in [100, 1000, 10000]:\n",
    "    conn = open_connection()\n",
    "\n",
    "    # Avec Trigger\n",
    "    time_with_trigger = sum(update_username_and_measure_time(conn, user_id, f\"new_username_{i}\", \"username_history\") for i in range(num_edits))\n",
    "\n",
    "    # Sans Trigger (Directement dans username_history_from_app)\n",
    "    time_without_trigger = sum(update_username_and_measure_time(conn, user_id, f\"new_username_{i}\", \"username_history_from_app\") for i in range(num_edits))\n",
    "\n",
    "    close_connection(conn)\n",
    "\n",
    "    print(f\"Nombre d'éditions: {num_edits}\")\n",
    "    print(f\"Temps avec trigger: {time_with_trigger} secondes\")\n",
    "    print(f\"Temps sans trigger: {time_without_trigger} secondes\")\n"
   ],
   "metadata": {
    "collapsed": false,
    "ExecuteTime": {
     "end_time": "2023-11-16T17:52:39.510349200Z",
     "start_time": "2023-11-16T17:52:25.001674300Z"
    }
   },
   "id": "a52520ad43cd8072"
  }
 ],
 "metadata": {
  "kernelspec": {
   "display_name": "Python 3",
   "language": "python",
   "name": "python3"
  },
  "language_info": {
   "codemirror_mode": {
    "name": "ipython",
    "version": 2
   },
   "file_extension": ".py",
   "mimetype": "text/x-python",
   "name": "python",
   "nbconvert_exporter": "python",
   "pygments_lexer": "ipython2",
   "version": "2.7.6"
  }
 },
 "nbformat": 4,
 "nbformat_minor": 5
}
